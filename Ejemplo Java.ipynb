{
 "cells": [
  {
   "cell_type": "markdown",
   "metadata": {},
   "source": [
    "# Clases y objetos en Java"
   ]
  },
  {
   "cell_type": "code",
   "execution_count": 2,
   "metadata": {},
   "outputs": [],
   "source": [
    "public class Operacion {\n",
    "\n",
    "    private int a;\n",
    "    private int b;\n",
    "\n",
    "    public Operacion (int a, int b) {\n",
    "        this.a = a;\n",
    "        this.b = b;\n",
    "    }\n",
    "    \n",
    "    public int sumar () {\n",
    "        return this.a + this.b;\n",
    "    }\n",
    "}"
   ]
  },
  {
   "cell_type": "markdown",
   "metadata": {},
   "source": [
    "Si se instancia la clase anterior, podemos comprobar su funcionamiento llamando al método sumar()."
   ]
  },
  {
   "cell_type": "code",
   "execution_count": 3,
   "metadata": {},
   "outputs": [
    {
     "name": "stdout",
     "output_type": "stream",
     "text": [
      "La suma es: 7\n",
      "La suma es: 12\n"
     ]
    }
   ],
   "source": [
    "Operacion x = new Operacion(1, 6);\n",
    "Operacion y = new Operacion(4, 8);\n",
    "\n",
    "System.out.println(\"La suma es: \"+ x.sumar());\n",
    "System.out.println(\"La suma es: \"+ y.sumar());"
   ]
  }
 ],
 "metadata": {
  "kernelspec": {
   "display_name": "Java",
   "language": "java",
   "name": "java"
  },
  "language_info": {
   "codemirror_mode": "java",
   "file_extension": ".java",
   "mimetype": "text/x-java-source",
   "name": "Java",
   "pygments_lexer": "java",
   "version": "10.0.2+13"
  }
 },
 "nbformat": 4,
 "nbformat_minor": 2
}
